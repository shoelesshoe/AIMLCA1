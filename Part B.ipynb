{
 "cells": [
  {
   "cell_type": "markdown",
   "id": "caf146ef",
   "metadata": {},
   "source": [
    "# AIML CA1 Assignment (Part B)"
   ]
  },
  {
   "cell_type": "code",
   "execution_count": 1,
   "id": "1ffb85d0",
   "metadata": {},
   "outputs": [],
   "source": [
    "import pandas as pd\n",
    "import numpy as np\n",
    "import matplotlib.pyplot as plt\n",
    "import seaborn as sns\n",
    "\n",
    "from sklearn.preprocessing import StandardScaler\n",
    "\n",
    "from sklearn.model_selection import train_test_split, GridSearchCV, cross_val_score, KFold, RandomizedSearchCV\n",
    "\n",
    "from sklearn.linear_model import LassoCV, RidgeCV\n",
    "from sklearn.neighbors import KNeighborsRegressor\n",
    "from sklearn.ensemble import RandomForestRegressor, GradientBoostingRegressor\n",
    "from sklearn.tree import DecisionTreeRegressor\n",
    "from sklearn.svm import SVR\n",
    "from sklearn.dummy import DummyRegressor\n",
    "\n",
    "from sklearn.metrics import r2_score, mean_squared_error, mean_absolute_error\n",
    "\n",
    "import time\n",
    "\n",
    "import warnings\n",
    "warnings.filterwarnings('ignore')"
   ]
  },
  {
   "cell_type": "markdown",
   "id": "6323b0b5",
   "metadata": {},
   "source": [
    "# 0. How is your prediction task defined? And what is the meaning of the output variable?\n"
   ]
  },
  {
   "cell_type": "markdown",
   "id": "3f8d5d68",
   "metadata": {},
   "source": [
    "This prediction task is defined as predicting the hopsital cost in US hospitals based on information such as ID, Age, Gender, BMI, etc."
   ]
  },
  {
   "cell_type": "markdown",
   "id": "fa5d659d",
   "metadata": {},
   "source": [
    "The meaning of the output variable, which is Cost, is how much the patient has to pay for the hospital fee."
   ]
  },
  {
   "cell_type": "markdown",
   "id": "37fa0ef4",
   "metadata": {},
   "source": [
    "After some background research, I have an idea of what each feature means.\n",
    "- ID: The ID of each row to indicate that each row is unique as two rows may have the exact same data but are from different patients.\n",
    "- Age: The age of the patient.\n",
    "- Gender: The gender of the patient.\n",
    "- BMI: The Body Mass Index of the patient. Derived from taking the weight / height$^2$.\n",
    "- Smoker: Whether the patient smokes or not.\n",
    "- Region: Region in the US where the hospital is located at.\n",
    "- Cost: The hospital fee for each patient."
   ]
  },
  {
   "cell_type": "markdown",
   "id": "08c1e80a",
   "metadata": {},
   "source": [
    "### Outline of the task:\n",
    "1. Load data\n",
    "2. Remove duplicative data (if any)\n",
    "3. Remove missing data (if any)\n",
    "4. Remove outliers (if any)\n",
    "5. Impute missing data (if any)\n",
    "6. Scale data\n",
    "7. Test which models favor which type of data (scale/unscaled & with outliers/without outliers)\n",
    "8. Hypertune models\n",
    "9. Select best model by score\n",
    "10. Comapre with dummy baseline"
   ]
  },
  {
   "cell_type": "markdown",
   "id": "51f7ead6",
   "metadata": {},
   "source": [
    "# 1. Load Data"
   ]
  },
  {
   "cell_type": "code",
   "execution_count": 2,
   "id": "9ab836a8",
   "metadata": {},
   "outputs": [
    {
     "data": {
      "text/html": [
       "<div>\n",
       "<style scoped>\n",
       "    .dataframe tbody tr th:only-of-type {\n",
       "        vertical-align: middle;\n",
       "    }\n",
       "\n",
       "    .dataframe tbody tr th {\n",
       "        vertical-align: top;\n",
       "    }\n",
       "\n",
       "    .dataframe thead th {\n",
       "        text-align: right;\n",
       "    }\n",
       "</style>\n",
       "<table border=\"1\" class=\"dataframe\">\n",
       "  <thead>\n",
       "    <tr style=\"text-align: right;\">\n",
       "      <th></th>\n",
       "      <th>ID</th>\n",
       "      <th>Age</th>\n",
       "      <th>Gender</th>\n",
       "      <th>BMI</th>\n",
       "      <th>Smoker</th>\n",
       "      <th>Region</th>\n",
       "      <th>Cost ($)</th>\n",
       "    </tr>\n",
       "  </thead>\n",
       "  <tbody>\n",
       "    <tr>\n",
       "      <th>0</th>\n",
       "      <td>1</td>\n",
       "      <td>19</td>\n",
       "      <td>female</td>\n",
       "      <td>27.900</td>\n",
       "      <td>yes</td>\n",
       "      <td>southwest</td>\n",
       "      <td>16884.92400</td>\n",
       "    </tr>\n",
       "    <tr>\n",
       "      <th>1</th>\n",
       "      <td>2</td>\n",
       "      <td>18</td>\n",
       "      <td>male</td>\n",
       "      <td>33.770</td>\n",
       "      <td>no</td>\n",
       "      <td>southeast</td>\n",
       "      <td>1725.55230</td>\n",
       "    </tr>\n",
       "    <tr>\n",
       "      <th>2</th>\n",
       "      <td>3</td>\n",
       "      <td>28</td>\n",
       "      <td>male</td>\n",
       "      <td>33.000</td>\n",
       "      <td>no</td>\n",
       "      <td>southeast</td>\n",
       "      <td>4449.46200</td>\n",
       "    </tr>\n",
       "    <tr>\n",
       "      <th>3</th>\n",
       "      <td>4</td>\n",
       "      <td>33</td>\n",
       "      <td>male</td>\n",
       "      <td>22.705</td>\n",
       "      <td>no</td>\n",
       "      <td>northwest</td>\n",
       "      <td>21984.47061</td>\n",
       "    </tr>\n",
       "    <tr>\n",
       "      <th>4</th>\n",
       "      <td>5</td>\n",
       "      <td>32</td>\n",
       "      <td>male</td>\n",
       "      <td>28.880</td>\n",
       "      <td>no</td>\n",
       "      <td>northwest</td>\n",
       "      <td>3866.85520</td>\n",
       "    </tr>\n",
       "    <tr>\n",
       "      <th>...</th>\n",
       "      <td>...</td>\n",
       "      <td>...</td>\n",
       "      <td>...</td>\n",
       "      <td>...</td>\n",
       "      <td>...</td>\n",
       "      <td>...</td>\n",
       "      <td>...</td>\n",
       "    </tr>\n",
       "    <tr>\n",
       "      <th>1333</th>\n",
       "      <td>1334</td>\n",
       "      <td>50</td>\n",
       "      <td>male</td>\n",
       "      <td>30.970</td>\n",
       "      <td>no</td>\n",
       "      <td>northwest</td>\n",
       "      <td>10600.54830</td>\n",
       "    </tr>\n",
       "    <tr>\n",
       "      <th>1334</th>\n",
       "      <td>1335</td>\n",
       "      <td>18</td>\n",
       "      <td>female</td>\n",
       "      <td>31.920</td>\n",
       "      <td>no</td>\n",
       "      <td>northeast</td>\n",
       "      <td>2205.98080</td>\n",
       "    </tr>\n",
       "    <tr>\n",
       "      <th>1335</th>\n",
       "      <td>1336</td>\n",
       "      <td>18</td>\n",
       "      <td>female</td>\n",
       "      <td>36.850</td>\n",
       "      <td>no</td>\n",
       "      <td>southeast</td>\n",
       "      <td>1629.83350</td>\n",
       "    </tr>\n",
       "    <tr>\n",
       "      <th>1336</th>\n",
       "      <td>1337</td>\n",
       "      <td>21</td>\n",
       "      <td>female</td>\n",
       "      <td>25.800</td>\n",
       "      <td>no</td>\n",
       "      <td>southwest</td>\n",
       "      <td>2007.94500</td>\n",
       "    </tr>\n",
       "    <tr>\n",
       "      <th>1337</th>\n",
       "      <td>1338</td>\n",
       "      <td>61</td>\n",
       "      <td>female</td>\n",
       "      <td>29.070</td>\n",
       "      <td>yes</td>\n",
       "      <td>northwest</td>\n",
       "      <td>29141.36030</td>\n",
       "    </tr>\n",
       "  </tbody>\n",
       "</table>\n",
       "<p>1338 rows × 7 columns</p>\n",
       "</div>"
      ],
      "text/plain": [
       "        ID  Age  Gender     BMI Smoker     Region     Cost ($)\n",
       "0        1   19  female  27.900    yes  southwest  16884.92400\n",
       "1        2   18    male  33.770     no  southeast   1725.55230\n",
       "2        3   28    male  33.000     no  southeast   4449.46200\n",
       "3        4   33    male  22.705     no  northwest  21984.47061\n",
       "4        5   32    male  28.880     no  northwest   3866.85520\n",
       "...    ...  ...     ...     ...    ...        ...          ...\n",
       "1333  1334   50    male  30.970     no  northwest  10600.54830\n",
       "1334  1335   18  female  31.920     no  northeast   2205.98080\n",
       "1335  1336   18  female  36.850     no  southeast   1629.83350\n",
       "1336  1337   21  female  25.800     no  southwest   2007.94500\n",
       "1337  1338   61  female  29.070    yes  northwest  29141.36030\n",
       "\n",
       "[1338 rows x 7 columns]"
      ]
     },
     "execution_count": 2,
     "metadata": {},
     "output_type": "execute_result"
    }
   ],
   "source": [
    "df = pd.read_csv('D:\\\\randal\\\\SP\\\\Year 1 Sem 2\\\\ST1511 AI & Machine Learning\\\\CA1\\\\CA1-Dataset\\\\CA1-Regression-Dataset.csv')\n",
    "df"
   ]
  },
  {
   "cell_type": "markdown",
   "id": "3d8af5b0",
   "metadata": {},
   "source": [
    "# 2. Data Preprocessing"
   ]
  },
  {
   "cell_type": "markdown",
   "id": "a8f83fac",
   "metadata": {},
   "source": [
    "## A. Analyse Missing/Duplicative Data"
   ]
  },
  {
   "cell_type": "markdown",
   "id": "0c71c422",
   "metadata": {},
   "source": [
    "### 1. Check for duplicative data"
   ]
  },
  {
   "cell_type": "code",
   "execution_count": 3,
   "id": "ccf7abdc",
   "metadata": {},
   "outputs": [
    {
     "data": {
      "text/html": [
       "<div>\n",
       "<style scoped>\n",
       "    .dataframe tbody tr th:only-of-type {\n",
       "        vertical-align: middle;\n",
       "    }\n",
       "\n",
       "    .dataframe tbody tr th {\n",
       "        vertical-align: top;\n",
       "    }\n",
       "\n",
       "    .dataframe thead th {\n",
       "        text-align: right;\n",
       "    }\n",
       "</style>\n",
       "<table border=\"1\" class=\"dataframe\">\n",
       "  <thead>\n",
       "    <tr style=\"text-align: right;\">\n",
       "      <th></th>\n",
       "      <th>ID</th>\n",
       "      <th>Age</th>\n",
       "      <th>Gender</th>\n",
       "      <th>BMI</th>\n",
       "      <th>Smoker</th>\n",
       "      <th>Region</th>\n",
       "      <th>Cost ($)</th>\n",
       "    </tr>\n",
       "  </thead>\n",
       "  <tbody>\n",
       "  </tbody>\n",
       "</table>\n",
       "</div>"
      ],
      "text/plain": [
       "Empty DataFrame\n",
       "Columns: [ID, Age, Gender, BMI, Smoker, Region, Cost ($)]\n",
       "Index: []"
      ]
     },
     "execution_count": 3,
     "metadata": {},
     "output_type": "execute_result"
    }
   ],
   "source": [
    "df[df.duplicated(keep=False)]"
   ]
  },
  {
   "cell_type": "markdown",
   "id": "8d42168d",
   "metadata": {},
   "source": [
    "Since there is no results, there are no duplicative data"
   ]
  },
  {
   "cell_type": "markdown",
   "id": "f8cb33ed",
   "metadata": {},
   "source": [
    "### 2. Check for missing data"
   ]
  },
  {
   "cell_type": "code",
   "execution_count": 4,
   "id": "ef6e5343",
   "metadata": {},
   "outputs": [
    {
     "data": {
      "text/plain": [
       "<Axes: >"
      ]
     },
     "execution_count": 4,
     "metadata": {},
     "output_type": "execute_result"
    },
    {
     "data": {
      "image/png": "[encoded data removed]",
      "text/plain": [
       "<Figure size 640x480 with 1 Axes>"
      ]
     },
     "metadata": {},
     "output_type": "display_data"
    }
   ],
   "source": [
    "# view missing data\n",
    "sns.heatmap(df.isnull(), cbar=False)"
   ]
  },
  {
   "cell_type": "code",
   "execution_count": 5,
   "id": "248d5b91",
   "metadata": {},
   "outputs": [
    {
     "data": {
      "text/plain": [
       "ID          0\n",
       "Age         0\n",
       "Gender      0\n",
       "BMI         0\n",
       "Smoker      0\n",
       "Region      0\n",
       "Cost ($)    0\n",
       "dtype: int64"
      ]
     },
     "execution_count": 5,
     "metadata": {},
     "output_type": "execute_result"
    }
   ],
   "source": [
    "# view number of missing values\n",
    "df.isnull().sum().sort_values()"
   ]
  },
  {
   "cell_type": "markdown",
   "id": "50ff1d01",
   "metadata": {},
   "source": [
    "Since there are 0 isnull values from the output above, there is no missing values"
   ]
  },
  {
   "cell_type": "markdown",
   "id": "4fb411b9",
   "metadata": {},
   "source": [
    "## B. Create Dummy Variables For Categorical Data"
   ]
  },
  {
   "cell_type": "markdown",
   "id": "e02bf7f5",
   "metadata": {},
   "source": [
    "As Regression models can only work with continuous data, we will create dummy variables for each categorical feature to convert them from categorical data to continuous data"
   ]
  },
  {
   "cell_type": "code",
   "execution_count": 6,
   "id": "292b431b",
   "metadata": {},
   "outputs": [
    {
     "data": {
      "text/html": [
       "<div>\n",
       "<style scoped>\n",
       "    .dataframe tbody tr th:only-of-type {\n",
       "        vertical-align: middle;\n",
       "    }\n",
       "\n",
       "    .dataframe tbody tr th {\n",
       "        vertical-align: top;\n",
       "    }\n",
       "\n",
       "    .dataframe thead th {\n",
       "        text-align: right;\n",
       "    }\n",
       "</style>\n",
       "<table border=\"1\" class=\"dataframe\">\n",
       "  <thead>\n",
       "    <tr style=\"text-align: right;\">\n",
       "      <th></th>\n",
       "      <th>ID</th>\n",
       "      <th>Age</th>\n",
       "      <th>BMI</th>\n",
       "      <th>Cost ($)</th>\n",
       "      <th>Gender_male</th>\n",
       "      <th>Smoker_yes</th>\n",
       "      <th>Region_northwest</th>\n",
       "      <th>Region_southeast</th>\n",
       "      <th>Region_southwest</th>\n",
       "    </tr>\n",
       "  </thead>\n",
       "  <tbody>\n",
       "    <tr>\n",
       "      <th>0</th>\n",
       "      <td>1</td>\n",
       "      <td>19</td>\n",
       "      <td>27.900</td>\n",
       "      <td>16884.92400</td>\n",
       "      <td>0</td>\n",
       "      <td>1</td>\n",
       "      <td>0</td>\n",
       "      <td>0</td>\n",
       "      <td>1</td>\n",
       "    </tr>\n",
       "    <tr>\n",
       "      <th>1</th>\n",
       "      <td>2</td>\n",
       "      <td>18</td>\n",
       "      <td>33.770</td>\n",
       "      <td>1725.55230</td>\n",
       "      <td>1</td>\n",
       "      <td>0</td>\n",
       "      <td>0</td>\n",
       "      <td>1</td>\n",
       "      <td>0</td>\n",
       "    </tr>\n",
       "    <tr>\n",
       "      <th>2</th>\n",
       "      <td>3</td>\n",
       "      <td>28</td>\n",
       "      <td>33.000</td>\n",
       "      <td>4449.46200</td>\n",
       "      <td>1</td>\n",
       "      <td>0</td>\n",
       "      <td>0</td>\n",
       "      <td>1</td>\n",
       "      <td>0</td>\n",
       "    </tr>\n",
       "    <tr>\n",
       "      <th>3</th>\n",
       "      <td>4</td>\n",
       "      <td>33</td>\n",
       "      <td>22.705</td>\n",
       "      <td>21984.47061</td>\n",
       "      <td>1</td>\n",
       "      <td>0</td>\n",
       "      <td>1</td>\n",
       "      <td>0</td>\n",
       "      <td>0</td>\n",
       "    </tr>\n",
       "    <tr>\n",
       "      <th>4</th>\n",
       "      <td>5</td>\n",
       "      <td>32</td>\n",
       "      <td>28.880</td>\n",
       "      <td>3866.85520</td>\n",
       "      <td>1</td>\n",
       "      <td>0</td>\n",
       "      <td>1</td>\n",
       "      <td>0</td>\n",
       "      <td>0</td>\n",
       "    </tr>\n",
       "    <tr>\n",
       "      <th>...</th>\n",
       "      <td>...</td>\n",
       "      <td>...</td>\n",
       "      <td>...</td>\n",
       "      <td>...</td>\n",
       "      <td>...</td>\n",
       "      <td>...</td>\n",
       "      <td>...</td>\n",
       "      <td>...</td>\n",
       "      <td>...</td>\n",
       "    </tr>\n",
       "    <tr>\n",
       "      <th>1333</th>\n",
       "      <td>1334</td>\n",
       "      <td>50</td>\n",
       "      <td>30.970</td>\n",
       "      <td>10600.54830</td>\n",
       "      <td>1</td>\n",
       "      <td>0</td>\n",
       "      <td>1</td>\n",
       "      <td>0</td>\n",
       "      <td>0</td>\n",
       "    </tr>\n",
       "    <tr>\n",
       "      <th>1334</th>\n",
       "      <td>1335</td>\n",
       "      <td>18</td>\n",
       "      <td>31.920</td>\n",
       "      <td>2205.98080</td>\n",
       "      <td>0</td>\n",
       "      <td>0</td>\n",
       "      <td>0</td>\n",
       "      <td>0</td>\n",
       "      <td>0</td>\n",
       "    </tr>\n",
       "    <tr>\n",
       "      <th>1335</th>\n",
       "      <td>1336</td>\n",
       "      <td>18</td>\n",
       "      <td>36.850</td>\n",
       "      <td>1629.83350</td>\n",
       "      <td>0</td>\n",
       "      <td>0</td>\n",
       "      <td>0</td>\n",
       "      <td>1</td>\n",
       "      <td>0</td>\n",
       "    </tr>\n",
       "    <tr>\n",
       "      <th>1336</th>\n",
       "      <td>1337</td>\n",
       "      <td>21</td>\n",
       "      <td>25.800</td>\n",
       "      <td>2007.94500</td>\n",
       "      <td>0</td>\n",
       "      <td>0</td>\n",
       "      <td>0</td>\n",
       "      <td>0</td>\n",
       "      <td>1</td>\n",
       "    </tr>\n",
       "    <tr>\n",
       "      <th>1337</th>\n",
       "      <td>1338</td>\n",
       "      <td>61</td>\n",
       "      <td>29.070</td>\n",
       "      <td>29141.36030</td>\n",
       "      <td>0</td>\n",
       "      <td>1</td>\n",
       "      <td>1</td>\n",
       "      <td>0</td>\n",
       "      <td>0</td>\n",
       "    </tr>\n",
       "  </tbody>\n",
       "</table>\n",
       "<p>1338 rows × 9 columns</p>\n",
       "</div>"
      ],
      "text/plain": [
       "        ID  Age     BMI     Cost ($)  Gender_male  Smoker_yes  \\\n",
       "0        1   19  27.900  16884.92400            0           1   \n",
       "1        2   18  33.770   1725.55230            1           0   \n",
       "2        3   28  33.000   4449.46200            1           0   \n",
       "3        4   33  22.705  21984.47061            1           0   \n",
       "4        5   32  28.880   3866.85520            1           0   \n",
       "...    ...  ...     ...          ...          ...         ...   \n",
       "1333  1334   50  30.970  10600.54830            1           0   \n",
       "1334  1335   18  31.920   2205.98080            0           0   \n",
       "1335  1336   18  36.850   1629.83350            0           0   \n",
       "1336  1337   21  25.800   2007.94500            0           0   \n",
       "1337  1338   61  29.070  29141.36030            0           1   \n",
       "\n",
       "      Region_northwest  Region_southeast  Region_southwest  \n",
       "0                    0                 0                 1  \n",
       "1                    0                 1                 0  \n",
       "2                    0                 1                 0  \n",
       "3                    1                 0                 0  \n",
       "4                    1                 0                 0  \n",
       "...                ...               ...               ...  \n",
       "1333                 1                 0                 0  \n",
       "1334                 0                 0                 0  \n",
       "1335                 0                 1                 0  \n",
       "1336                 0                 0                 1  \n",
       "1337                 1                 0                 0  \n",
       "\n",
       "[1338 rows x 9 columns]"
      ]
     },
     "execution_count": 6,
     "metadata": {},
     "output_type": "execute_result"
    }
   ],
   "source": [
    "# create dummy variables\n",
    "df = pd.get_dummies(df, dtype=int, drop_first=True)\n",
    "df"
   ]
  },
  {
   "cell_type": "markdown",
   "id": "72673e5c",
   "metadata": {},
   "source": [
    "## C. Visualise Distribution of Continuous Features "
   ]
  },
  {
   "cell_type": "code",
   "execution_count": 7,
   "id": "2e117ceb",
   "metadata": {},
   "outputs": [
    {
     "data": {
      "image/png": "[encoded data removed]",
      "text/plain": [
       "<Figure size 640x480 with 1 Axes>"
      ]
     },
     "metadata": {},
     "output_type": "display_data"
    }
   ],
   "source": [
    "# plot boxplot of BMI and Age\n",
    "sns.boxplot(df[['BMI', 'Age']])\n",
    "plt.title('Distribution of BMI and Age')\n",
    "plt.show()"
   ]
  },
  {
   "cell_type": "markdown",
   "id": "d993262a",
   "metadata": {},
   "source": [
    "From the boxplot above, BMI has quite a few outliers while Age is quite balanced"
   ]
  },
  {
   "cell_type": "code",
   "execution_count": 8,
   "id": "c376dc58",
   "metadata": {},
   "outputs": [
    {
     "data": {
      "image/png": "[encoded data removed]",
      "text/plain": [
       "<Figure size 640x480 with 1 Axes>"
      ]
     },
     "metadata": {},
     "output_type": "display_data"
    }
   ],
   "source": [
    "# plot boxplot of Cost\n",
    "sns.boxplot(df[['Cost ($)']])\n",
    "plt.title('Distribution of Cost ($)')\n",
    "plt.show()"
   ]
  },
  {
   "cell_type": "markdown",
   "id": "1901f0a3",
   "metadata": {},
   "source": [
    "From the boxplot above, Cost has quite a lot of outliers"
   ]
  },
  {
   "cell_type": "markdown",
   "id": "10fa53e6",
   "metadata": {},
   "source": [
    "However, we cannot be 100% sure that these outliers will negatively impact the models' performances as these high costs may be because the patient seeked more complex treatments or have rare diseases. Hence, we decided not to remove them"
   ]
  },
  {
   "cell_type": "markdown",
   "id": "05d6370e",
   "metadata": {},
   "source": [
    "## D. Scale Continuous Features Using Standardisation"
   ]
  },
  {
   "cell_type": "markdown",
   "id": "0c1ab481",
   "metadata": {},
   "source": [
    "As the ranges of the data vary and we do not want one feature to influence the model more than the others, we will scale our data using standardisation but only for features with continuous data"
   ]
  },
  {
   "cell_type": "markdown",
   "id": "ab0ea49b",
   "metadata": {},
   "source": [
    "We will also remove the ID column as it probably will not influence the models' performances and the purpose of the ID column is to make sure that if there is more than one patient with the exact same features as another patient, it will not be treated as duplicative data"
   ]
  },
  {
   "cell_type": "code",
   "execution_count": 9,
   "id": "55b83a22",
   "metadata": {},
   "outputs": [
    {
     "name": "stdout",
     "output_type": "stream",
     "text": [
      "First 5 rows of X_train:\n",
      "           Age       BMI  Gender_male  Smoker_yes  Region_northwest  \\\n",
      "560   0.472227 -1.756525            0           0                 1   \n",
      "1285  0.543313 -1.033082            0           0                 0   \n",
      "1142  0.898745 -0.943687            0           0                 0   \n",
      "969  -0.025379  0.622393            0           0                 0   \n",
      "486   1.040918 -1.504893            0           0                 1   \n",
      "\n",
      "      Region_southeast  Region_southwest  \n",
      "560                  0                 0  \n",
      "1285                 0                 0  \n",
      "1142                 1                 0  \n",
      "969                  1                 0  \n",
      "486                  0                 0  \n",
      "\n",
      "First 5 rows of X_test:\n",
      "           Age       BMI  Gender_male  Smoker_yes  Region_northwest  \\\n",
      "764   0.401140 -0.891539            0           0                 0   \n",
      "887  -0.238638 -0.089461            0           0                 1   \n",
      "890   1.751782 -0.608453            0           1                 1   \n",
      "1293  0.472227 -0.797177            1           0                 1   \n",
      "259  -1.447107  0.225079            1           1                 1   \n",
      "\n",
      "      Region_southeast  Region_southwest  \n",
      "764                  0                 0  \n",
      "887                  0                 0  \n",
      "890                  0                 0  \n",
      "1293                 0                 0  \n",
      "259                  0                 0  \n"
     ]
    }
   ],
   "source": [
    "# train test split\n",
    "X = df.drop(['Cost ($)', 'ID'], axis=1)\n",
    "y = df['Cost ($)']\n",
    "\n",
    "X_train, X_test, y_train, y_test = train_test_split(X, y, test_size=0.2, random_state=42)\n",
    "\n",
    "# scale data by standardisation but only with continuous data\n",
    "scaler = StandardScaler()\n",
    "X_train[['Age', 'BMI']] = scaler.fit_transform(X_train[['Age', 'BMI']])\n",
    "X_test[['Age', 'BMI']] = scaler.transform(X_test[['Age', 'BMI']])\n",
    "\n",
    "print(f'First 5 rows of X_train:\\n{X_train.head()}')\n",
    "print()\n",
    "print(f'First 5 rows of X_test:\\n{X_test.head()}')"
   ]
  },
  {
   "cell_type": "markdown",
   "id": "0d154332",
   "metadata": {},
   "source": [
    "From the output above, we can verify that the scaling has worked by observing that the values of Age and BMI have changed"
   ]
  },
  {
   "cell_type": "markdown",
   "id": "c0bc9378",
   "metadata": {},
   "source": [
    "## E. Selecting Important Features Using LassoCV"
   ]
  },
  {
   "cell_type": "markdown",
   "id": "e035a478",
   "metadata": {},
   "source": [
    "### 1. Hypertune LassoCV Alpha Paramater"
   ]
  },
  {
   "cell_type": "code",
   "execution_count": 10,
   "id": "9975de09",
   "metadata": {},
   "outputs": [
    {
     "name": "stdout",
     "output_type": "stream",
     "text": [
      "Best Alpha: 78\n",
      "MSE Score: 34659809.5688692\n",
      "R-Squared Score: 0.7767465844272885\n",
      "Coefficients: [ 3569.60535303  1902.91104636     0.         23185.06500553\n",
      "     0.            -0.           -53.23413927]\n"
     ]
    }
   ],
   "source": [
    "# initialise all the values of alpha that we want to test\n",
    "alphas = np.arange(0, 100)\n",
    "\n",
    "kf = KFold(n_splits=5)  # split the data into equal proportions\n",
    "\n",
    "# perform LassoCV\n",
    "lasso = LassoCV(alphas=alphas, cv=5, random_state=42)\n",
    "lasso.fit(X_train, y_train)\n",
    "y_pred = lasso.predict(X_test)\n",
    "mse_lasso = mean_squared_error(y_test, y_pred)\n",
    "r2_lasso = r2_score(y_test, y_pred)\n",
    "\n",
    "print(f'Best Alpha: {lasso.alpha_}')\n",
    "print(f'MSE Score: {mse_lasso}')\n",
    "print(f'R-Squared Score: {r2_lasso}')\n",
    "print(f'Coefficients: {lasso.coef_}')"
   ]
  },
  {
   "cell_type": "code",
   "execution_count": 11,
   "id": "21c171c8",
   "metadata": {},
   "outputs": [
    {
     "data": {
      "text/plain": [
       "Index(['Age', 'BMI', 'Gender_male', 'Smoker_yes', 'Region_northwest',\n",
       "       'Region_southeast', 'Region_southwest'],\n",
       "      dtype='object')"
      ]
     },
     "execution_count": 11,
     "metadata": {},
     "output_type": "execute_result"
    }
   ],
   "source": [
    "X_train.columns"
   ]
  },
  {
   "cell_type": "markdown",
   "id": "32ab27c0",
   "metadata": {},
   "source": [
    "From the output above, we can see that the LassoCV model has identified features that are deemed unnecessary to getting the predicted price. However, I do think that Region_northwest and Region_southeast will influence the cost as some regions may have lesser hospitals or some locations only provide some niche treatments which will affect the price. I also think that the gender will affect the price as different genders have different types of diseases which will affect the price. Hence, I will have one dataset with the dropped features and one without and compare them to see which one yields the best results for the model"
   ]
  },
  {
   "cell_type": "markdown",
   "id": "1b0a1098",
   "metadata": {},
   "source": [
    "### 2. Drop Features"
   ]
  },
  {
   "cell_type": "code",
   "execution_count": 12,
   "id": "957c6fcb",
   "metadata": {},
   "outputs": [
    {
     "name": "stdout",
     "output_type": "stream",
     "text": [
      "First 5 rows of X_train_dropped:\n",
      "           Age       BMI  Smoker_yes  Region_southwest\n",
      "560   0.472227 -1.756525           0                 0\n",
      "1285  0.543313 -1.033082           0                 0\n",
      "1142  0.898745 -0.943687           0                 0\n",
      "969  -0.025379  0.622393           0                 0\n",
      "486   1.040918 -1.504893           0                 0\n",
      "\n",
      "First 5 rows of X_test_dropped:\n",
      "           Age       BMI  Smoker_yes  Region_southwest\n",
      "764   0.401140 -0.891539           0                 0\n",
      "887  -0.238638 -0.089461           0                 0\n",
      "890   1.751782 -0.608453           1                 0\n",
      "1293  0.472227 -0.797177           0                 0\n",
      "259  -1.447107  0.225079           1                 0\n"
     ]
    }
   ],
   "source": [
    "X_train_dropped = X_train.drop(['Gender_male', 'Region_northwest', 'Region_southeast'], axis=1)\n",
    "X_test_dropped = X_test.drop(['Gender_male', 'Region_northwest', 'Region_southeast'], axis=1)\n",
    "\n",
    "print(f'First 5 rows of X_train_dropped:\\n{X_train_dropped.head()}')\n",
    "print()\n",
    "print(f'First 5 rows of X_test_dropped:\\n{X_test_dropped.head()}')"
   ]
  },
  {
   "cell_type": "markdown",
   "id": "31b59b4f",
   "metadata": {},
   "source": [
    "# 3. Model Selection"
   ]
  },
  {
   "cell_type": "markdown",
   "id": "5d2f9a9f",
   "metadata": {},
   "source": [
    "## A. Hypertuning Models' Params"
   ]
  },
  {
   "cell_type": "markdown",
   "id": "4abfeef7",
   "metadata": {},
   "source": [
    "### 1. Select Models To Use"
   ]
  },
  {
   "cell_type": "markdown",
   "id": "28641988",
   "metadata": {},
   "source": [
    "Regression Models:\n",
    "1. DecisionTreeRegressor\n",
    "2. RandomForestRegressor\n",
    "3. GradientBoostingRegressor\n",
    "4. LassoCV\n",
    "5. RidgeCV\n",
    "6. SVR\n",
    "7. KNeighborsRegressor"
   ]
  },
  {
   "cell_type": "markdown",
   "id": "c411ab6d",
   "metadata": {},
   "source": [
    "I didn't include LinearRegressor as LassoCV and RidgeCV are already LinearRegressors"
   ]
  },
  {
   "cell_type": "markdown",
   "id": "e410ff6d",
   "metadata": {},
   "source": [
    "### 2. Select Parameters To Test"
   ]
  },
  {
   "cell_type": "code",
   "execution_count": 13,
   "id": "32396114",
   "metadata": {},
   "outputs": [],
   "source": [
    "dtr_params = {    \n",
    "    'criterion': ['squared_error', 'friedman_mse', 'absolute_error', 'poisson'],  # measures quality of split\n",
    "    \"max_depth\": [1, 3, 5, 7, 9, 11, 12],\n",
    "    \"min_samples_leaf\": [1, 2, 3, 4, 5, 6, 7, 8, 9, 10],  # min number of samples per leaf before split ends\n",
    "    \"min_weight_fraction_leaf\": [0.1, 0.2, 0.3, 0.4, 0.5, 0.6, 0.7, 0.8, 0.9],  # min number of samples required to be at a leaf node\n",
    "    \"max_features\": [\"auto\", \"log2\", \"sqrt\", None],\n",
    "    \"max_leaf_nodes\": [None, 10, 20, 30, 40, 50, 60, 70, 80, 90]\n",
    "}\n",
    "\n",
    "rfr_params = {\n",
    "    'n_estimators': [5, 20, 50, 75, 100], # number of trees in the random forest\n",
    "    'max_features': ['auto', 'sqrt', 'log2', None], # number of features in consideration at every split\n",
    "    'max_depth': [int(x) for x in np.linspace(10, 120, 12)], # maximum number of levels allowed in each decision tree\n",
    "    'min_samples_split': [2, 6, 10], # minimum sample number to split a node\n",
    "    'min_samples_leaf': [1, 3, 4], # minimum sample number that can be stored in a leaf node\n",
    "    'bootstrap': [True, False] # method used to sample data points\n",
    "}\n",
    "\n",
    "gbr_params = {\n",
    "    'n_estimators': [500, 1000, 2000],\n",
    "    'learning_rate': [0.001, 0.01, 0.1],\n",
    "    'max_depth': [1, 2, 4],\n",
    "    'subsample': [0.5, 0.75, 1]\n",
    "}\n",
    "\n",
    "alphas = np.arange(0.1, 101, 0.1)  # for LassoCV and RidgeCV\n",
    "\n",
    "svr_params = {\n",
    "    'kernel': ['linear', 'poly', 'rbf', 'sigmoid'],\n",
    "    'C': np.arange(1, 100, 2)  # regularisation strength\n",
    "}\n",
    "\n",
    "knn_params = {\n",
    "    'n_neighbors': np.arange(1, 101, 2),\n",
    "    'weights': ['uniform', 'distance']\n",
    "}"
   ]
  },
  {
   "cell_type": "markdown",
   "id": "33029a28",
   "metadata": {},
   "source": [
    "### 3. Hypertune Hyperparameters Using GridSearchCV And RandomizedSearchCV"
   ]
  },
  {
   "cell_type": "markdown",
   "id": "3461e808",
   "metadata": {},
   "source": [
    "We used KFold instead of StratifiedKFold as StratifiedKFold is designed for categorical data and not continuous data"
   ]
  },
  {
   "cell_type": "markdown",
   "id": "d16c4a5c",
   "metadata": {},
   "source": [
    "We will first split the for loop into 3 conditions:\n",
    "1. Model is either DecisionTreeRegressor or RandomForestRegressor or GradientBoostingRegressor\n",
    "\n",
    "    This is because there is quite alot of parameters for these 3 models that we want to hypertune. Hence, using RandomizedSearchCV would be faster than doing GridSearchCV to find all the possible combinations."
   ]
  },
  {
   "cell_type": "markdown",
   "id": "ec337729",
   "metadata": {},
   "source": [
    "2. Model is either LassoCV or RidgeCV\n",
    "\n",
    "    We are separating this as the code for these two models are different as they perform their own cross-validation and hence we cannot use RandomizedSearchCV or GridSearchCV to hypertune them. "
   ]
  },
  {
   "cell_type": "markdown",
   "id": "d0206728",
   "metadata": {},
   "source": [
    "3. Remaining Models\n",
    "\n",
    "    We will perform GridSearchCV on these models as they do not have that many parameters to hypertune and can afford to find the best parameters out of all the possible combinations."
   ]
  },
  {
   "cell_type": "code",
   "execution_count": 14,
   "id": "4f646268",
   "metadata": {
    "scrolled": false
   },
   "outputs": [
    {
     "name": "stdout",
     "output_type": "stream",
     "text": [
      "Best DecisionTreeRegressor With Dropping Features Parameters: {'min_weight_fraction_leaf': 0.1, 'min_samples_leaf': 9, 'max_leaf_nodes': 70, 'max_features': None, 'max_depth': 12, 'criterion': 'poisson'}\n",
      "Best DecisionTreeRegressor With Dropping Features Best R-Squared Score: 0.7866312380895816\n",
      "\n",
      "Best DecisionTreeRegressor Without Dropping Features Parameters: {'min_weight_fraction_leaf': 0.1, 'min_samples_leaf': 10, 'max_leaf_nodes': 40, 'max_features': None, 'max_depth': 5, 'criterion': 'squared_error'}\n",
      "Best DecisionTreeRegressor Without Dropping Features Best R-Squared Score: 0.7866312380895816\n",
      "\n",
      "Best RandomForestRegressor With Dropping Features Parameters: {'n_estimators': 100, 'min_samples_split': 6, 'min_samples_leaf': 4, 'max_features': 'sqrt', 'max_depth': 90, 'bootstrap': True}\n",
      "Best RandomForestRegressor With Dropping Features Best R-Squared Score: 0.8402537320154512\n",
      "\n",
      "Best RandomForestRegressor Without Dropping Features Parameters: {'n_estimators': 100, 'min_samples_split': 10, 'min_samples_leaf': 4, 'max_features': None, 'max_depth': 90, 'bootstrap': True}\n",
      "Best RandomForestRegressor Without Dropping Features Best R-Squared Score: 0.8360036400989472\n",
      "\n",
      "Best GradientBoostingRegressor With Dropping Features Parameters: {'learning_rate': 0.01, 'max_depth': 2, 'n_estimators': 1000, 'subsample': 1}\n",
      "Best GradientBoostingRegressor With Dropping Features Best R-Squared Score: 0.8473233775665477\n",
      "\n",
      "Best GradientBoostingRegressor Without Dropping Features Parameters: {'learning_rate': 0.01, 'max_depth': 2, 'n_estimators': 1000, 'subsample': 1}\n",
      "Best GradientBoostingRegressor Without Dropping Features Best R-Squared Score: 0.8473611037318193\n",
      "\n",
      "Best LassoCV With Dropping Features Parameters: 7.0\n",
      "Best LassoCV With Dropping Features Best R-Squared Score: 0.7777944848964956\n",
      "\n",
      "Best LassoCV Without Dropping Features Parameters: 77.7\n",
      "Best LassoCV Without Dropping Features Best R-Squared Score: 0.7767530093533315\n",
      "\n",
      "Best RidgeCV With Dropping Features Parameters: 7.0\n",
      "Best RidgeCV With Dropping Features Best R-Squared Score: 0.7777944848964956\n",
      "\n",
      "Best RidgeCV Without Dropping Features Parameters: 77.7\n",
      "Best RidgeCV Without Dropping Features Best R-Squared Score: 0.7767530093533315\n",
      "\n",
      "Best SVR With Dropping Features Parameters: {'C': 99, 'kernel': 'linear'}\n",
      "Best SVR With Dropping Features Best R-Squared Score: 0.49905858873141895\n",
      "\n",
      "Best SVR Without Dropping Features Parameters: {'C': 99, 'kernel': 'linear'}\n",
      "Best SVR Without Dropping Features Best R-Squared Score: 0.48972018424990954\n",
      "\n",
      "Best KNN With Dropping Features Parameters: {'n_neighbors': 5, 'weights': 'uniform'}\n",
      "Best KNN With Dropping Features Best R-Squared Score: 0.8058244623720208\n",
      "\n",
      "Best KNN Without Dropping Features Parameters: {'n_neighbors': 7, 'weights': 'distance'}\n",
      "Best KNN Without Dropping Features Best R-Squared Score: 0.7574978716599663\n",
      "\n"
     ]
    }
   ],
   "source": [
    "# selected regression models and their respective params\n",
    "models_params = {\n",
    "    'DecisionTreeRegressor': (DecisionTreeRegressor, dtr_params),\n",
    "    'RandomForestRegressor': (RandomForestRegressor, rfr_params),\n",
    "    'GradientBoostingRegressor': (GradientBoostingRegressor, gbr_params),\n",
    "    'LassoCV': (LassoCV, alphas),\n",
    "    'RidgeCV': (RidgeCV, alphas),\n",
    "    'SVR': (SVR, svr_params),\n",
    "    'KNN': (KNeighborsRegressor, knn_params)\n",
    "}\n",
    "\n",
    "kf = KFold(n_splits=5)  # split the data into equal proportions\n",
    "\n",
    "for model in models_params:\n",
    "    if model == 'DecisionTreeRegressor' or model == 'RandomForestRegressor' or model == 'GradientBoostingTree':\n",
    "        # perform radnomizedsearch on with dropped features\n",
    "        random_search = RandomizedSearchCV(\n",
    "            models_params[model][0](), models_params[model][1], n_jobs=-1, cv=kf, n_iter=200, random_state=41\n",
    "        )\n",
    "        random_search.fit(X_train_dropped, y_train)\n",
    "\n",
    "        print(f'Best {model} With Dropping Features Parameters: {random_search.best_params_}') \n",
    "        print(f'Best {model} With Dropping Features Best R-Squared Score: {random_search.best_score_}')\n",
    "        print()\n",
    "\n",
    "        # perform radnomizedsearch on without dropped features\n",
    "        random_search = RandomizedSearchCV(\n",
    "            models_params[model][0](), models_params[model][1], n_jobs=-1, cv=kf, n_iter=200, random_state=41\n",
    "        )\n",
    "        random_search.fit(X_train, y_train)\n",
    "\n",
    "        print(f'Best {model} Without Dropping Features Parameters: {random_search.best_params_}') \n",
    "        print(f'Best {model} Without Dropping Features Best R-Squared Score: {random_search.best_score_}')\n",
    "        print()\n",
    "    elif model == 'LassoCV' or model == 'RidgeCV':  # without RandomizedSearchCV or GridSearchCV as LassoCV and RidgeCV already cross-validates by themselves\n",
    "        # with dropped features\n",
    "        cv_model = LassoCV(alphas=alphas, cv=5)\n",
    "        cv_model.fit(X_train_dropped, y_train)\n",
    "        pred = cv_model.predict(X_test_dropped)\n",
    "\n",
    "        print(f'Best {model} With Dropping Features Parameters: {cv_model.alpha_}') \n",
    "        print(f'Best {model} With Dropping Features Best R-Squared Score: {r2_score(y_test, pred)}')\n",
    "        print()\n",
    "        \n",
    "        # without dropped features\n",
    "        cv_model = LassoCV(alphas=alphas, cv=5)\n",
    "        cv_model.fit(X_train, y_train)\n",
    "        pred = cv_model.predict(X_test)\n",
    "\n",
    "        print(f'Best {model} Without Dropping Features Parameters: {cv_model.alpha_}') \n",
    "        print(f'Best {model} Without Dropping Features Best R-Squared Score: {r2_score(y_test, pred)}')\n",
    "        print()\n",
    "    else:\n",
    "        # perform gridsearch on with dropped features\n",
    "        grid_search = GridSearchCV(models_params[model][0](), models_params[model][1], n_jobs=-1, cv=kf)\n",
    "        grid_search.fit(X_train_dropped, y_train)\n",
    "\n",
    "        print(f'Best {model} With Dropping Features Parameters: {grid_search.best_params_}') \n",
    "        print(f'Best {model} With Dropping Features Best R-Squared Score: {grid_search.best_score_}')\n",
    "        print()\n",
    "\n",
    "        # perform gridsearch on without dropped features\n",
    "        grid_search = GridSearchCV(models_params[model][0](), models_params[model][1], n_jobs=-1, cv=kf)\n",
    "        grid_search.fit(X_train, y_train)\n",
    "\n",
    "        print(f'Best {model} Without Dropping Features Parameters: {grid_search.best_params_}') \n",
    "        print(f'Best {model} Without Dropping Features Best R-Squared Score: {grid_search.best_score_}')\n",
    "        print()"
   ]
  },
  {
   "cell_type": "markdown",
   "id": "f64f8f4e",
   "metadata": {},
   "source": [
    "Although R-squared measures the proportion of total variance, it does not measure the errors that the model makes. Hence, we will use cross_val_score to get the Mean Absolute Error (MAE) and Mean Squared Error (MSE). For the scoring of cross_val_score for MAE and MSE, we use neg_mean_absolute_error and neg_mean_squared_error as the lower the error score, the better the model is. However, cross_val_score will take the best score (highest), which is the opposite of what we want. Hence, we will have the MAE and MSE scores to be negative and times it by -1 afterwards to make it a positive number for easier interpretation"
   ]
  },
  {
   "cell_type": "markdown",
   "id": "08c80390",
   "metadata": {},
   "source": [
    "For simplicity, we will only be taking models with a R-Squared score of 0.8 and above"
   ]
  },
  {
   "cell_type": "code",
   "execution_count": 15,
   "id": "d96fcf7e",
   "metadata": {},
   "outputs": [
    {
     "name": "stdout",
     "output_type": "stream",
     "text": [
      "DecisionTreeRegressor_with_dropping R-squared Score: 0.7866312380895815\n",
      "DecisionTreeRegressor_with_dropping Mean Abosolute Error Score: 3381.266693862411\n",
      "DecisionTreeRegressor_with_dropping Mean Squared Error Score: 30882336.186781265\n",
      "\n",
      "DecisionTreeRegressor_without_dropping R-squared Score: 0.7866312380895815\n",
      "DecisionTreeRegressor_without_dropping Mean Abosolute Error Score: 3381.266693862411\n",
      "DecisionTreeRegressor_without_dropping Mean Squared Error Score: 30882336.186781265\n",
      "\n",
      "RandomForestRegressor_with_dropping R-squared Score: 0.8383108990096758\n",
      "RandomForestRegressor_with_dropping Mean Abosolute Error Score: 2748.9071404321166\n",
      "RandomForestRegressor_with_dropping Mean Squared Error Score: 22700608.818158023\n",
      "\n",
      "RandomForestRegressor_without_dropping R-squared Score: 0.8363875579353293\n",
      "RandomForestRegressor_without_dropping Mean Abosolute Error Score: 2775.654699367535\n",
      "RandomForestRegressor_without_dropping Mean Squared Error Score: 23227531.5504045\n",
      "\n",
      "GradientBoostingRegressor_with_dropping R-squared Score: 0.8470303349774063\n",
      "GradientBoostingRegressor_with_dropping Mean Abosolute Error Score: 2704.447046232513\n",
      "GradientBoostingRegressor_with_dropping Mean Squared Error Score: 21598079.446008407\n",
      "\n",
      "GradientBoostingRegressor_without_dropping R-squared Score: 0.8473529269954563\n",
      "GradientBoostingRegressor_without_dropping Mean Abosolute Error Score: 2654.650089643151\n",
      "GradientBoostingRegressor_without_dropping Mean Squared Error Score: 21561579.26872199\n",
      "\n",
      "KNN_with_dropped R-squared Score: 0.7429614785536358\n",
      "KNN_with_dropped Mean Abosolute Error Score: 3677.2399165981305\n",
      "KNN_with_dropped Mean Squared Error Score: 36673259.364024065\n",
      "\n"
     ]
    }
   ],
   "source": [
    "hypertuned_models = {\n",
    "    'DecisionTreeRegressor_with_dropping': DecisionTreeRegressor(\n",
    "        min_weight_fraction_leaf=0.1,\n",
    "        min_samples_leaf=5,\n",
    "        max_leaf_nodes=50,\n",
    "        max_features=None,\n",
    "        max_depth=5,\n",
    "        criterion='poisson'\n",
    "    ),\n",
    "    'DecisionTreeRegressor_without_dropping': DecisionTreeRegressor(\n",
    "        min_weight_fraction_leaf=0.1,\n",
    "        min_samples_leaf=3,\n",
    "        max_leaf_nodes=20,\n",
    "        max_features=None,\n",
    "        max_depth=5,\n",
    "        criterion='squared_error'\n",
    "    ),\n",
    "    'RandomForestRegressor_with_dropping': RandomForestRegressor(\n",
    "        n_estimators=100,\n",
    "        min_samples_split=2,\n",
    "        min_samples_leaf=4,\n",
    "        max_features='log2',\n",
    "        max_depth=100,\n",
    "        bootstrap=True\n",
    "    ),\n",
    "    'RandomForestRegressor_without_dropping': RandomForestRegressor(\n",
    "        n_estimators=100,\n",
    "        min_samples_split=10,\n",
    "        min_samples_leaf=4,\n",
    "        max_features=None,\n",
    "        max_depth=90,\n",
    "        bootstrap=True\n",
    "    ),\n",
    "    'GradientBoostingRegressor_with_dropping': GradientBoostingRegressor(\n",
    "        learning_rate=0.01,\n",
    "        max_depth=2,\n",
    "        n_estimators=500,\n",
    "        subsample=0.75\n",
    "    ),\n",
    "    'GradientBoostingRegressor_without_dropping': GradientBoostingRegressor(\n",
    "        learning_rate=0.01,\n",
    "        max_depth=2,\n",
    "        n_estimators=1000,\n",
    "        subsample=1,\n",
    "    ),\n",
    "    'KNN_with_dropped': KNeighborsRegressor(\n",
    "        n_neighbors=5,\n",
    "        weights='uniform'\n",
    "    )\n",
    "}\n",
    "\n",
    "kf = KFold(n_splits=5)  # split the data into equal proportions\n",
    "\n",
    "for model in hypertuned_models:\n",
    "    if '_with_dropping' in model:  # selects all the models that require the data to have dropped features\n",
    "        dropped_model_r2 = cross_val_score(\n",
    "            hypertuned_models[model], X_train_dropped, y_train, cv=kf, scoring='r2', n_jobs=-1\n",
    "        )\n",
    "        dropped_model_mae = cross_val_score(\n",
    "            hypertuned_models[model], X_train_dropped, y_train, cv=kf, scoring='neg_mean_absolute_error', n_jobs=-1\n",
    "        ) * -1  # show a positive error score\n",
    "        dropped_model_mse = cross_val_score(\n",
    "            hypertuned_models[model], X_train_dropped, y_train, cv=kf, scoring='neg_mean_squared_error', n_jobs=-1\n",
    "        ) * -1  # show a positive error score\n",
    "        \n",
    "        print(f'{model} R-squared Score: {np.mean(dropped_model_r2)}')\n",
    "        print(f'{model} Mean Abosolute Error Score: {np.mean(dropped_model_mae)}')\n",
    "        print(f'{model} Mean Squared Error Score: {np.mean(dropped_model_mse)}')\n",
    "        print()\n",
    "    else:  # models that require the data to have ALL the features\n",
    "        model_r2 = cross_val_score(\n",
    "            hypertuned_models[model], X_train, y_train, cv=kf, scoring='r2', n_jobs=-1\n",
    "        )\n",
    "        model_mae = cross_val_score(\n",
    "            hypertuned_models[model], X_train, y_train, cv=kf, scoring='neg_mean_absolute_error', n_jobs=-1\n",
    "        ) * -1  # show a positive error score\n",
    "        model_mse = cross_val_score(\n",
    "            hypertuned_models[model], X_train, y_train, cv=kf, scoring='neg_mean_squared_error', n_jobs=-1\n",
    "        ) * -1  # show a positive error score\n",
    "        \n",
    "        print(f'{model} R-squared Score: {np.mean(model_r2)}')\n",
    "        print(f'{model} Mean Abosolute Error Score: {np.mean(model_mae)}')\n",
    "        print(f'{model} Mean Squared Error Score: {np.mean(model_mse)}')\n",
    "        print()"
   ]
  },
  {
   "cell_type": "markdown",
   "id": "bbc5e640",
   "metadata": {},
   "source": [
    "Since GradientBoostingRegressor without the dropped features perform the best (highest R-Squared score and lowest MAE and MSE score), we shall use it as our final model"
   ]
  },
  {
   "cell_type": "markdown",
   "id": "d1ef889c",
   "metadata": {},
   "source": [
    "## B. Train And Score Best Model With Test Data"
   ]
  },
  {
   "cell_type": "code",
   "execution_count": 16,
   "id": "5d18cfed",
   "metadata": {},
   "outputs": [
    {
     "name": "stdout",
     "output_type": "stream",
     "text": [
      "The R-squared score for the best GradientBoostingRegressor model without dropping features is: 0.87\n",
      "The MAE score for the best GradientBoostingRegressor model without dropping features is: 2549.69\n",
      "The MSE score for the best GradientBoostingRegressor model without dropping features is: 19777399.33\n"
     ]
    }
   ],
   "source": [
    "# train-test model with best hypertuned parameters\n",
    "best_gbr = GradientBoostingRegressor(learning_rate=0.01, max_depth=2, n_estimators=1000, subsample=1, random_state=20)\n",
    "best_gbr.fit(X_train, y_train)\n",
    "best_gbr_y_pred = best_gbr.predict(X_test)\n",
    "best_gbr_r2 = r2_score(y_test, best_gbr_y_pred)\n",
    "best_gbr_mae = mean_absolute_error(y_test, best_gbr_y_pred)\n",
    "best_gbr_mse = mean_squared_error(y_test, best_gbr_y_pred)\n",
    "\n",
    "print(f'The R-squared score for the best GradientBoostingRegressor model without dropping features is: {round(best_gbr_r2, 2)}')\n",
    "print(f'The MAE score for the best GradientBoostingRegressor model without dropping features is: {round(best_gbr_mae, 2)}')\n",
    "print(f'The MSE score for the best GradientBoostingRegressor model without dropping features is: {round(best_gbr_mse, 2)}')"
   ]
  },
  {
   "cell_type": "markdown",
   "id": "7c4f36d5",
   "metadata": {},
   "source": [
    "## C. Compare With Dummy Baseline Model"
   ]
  },
  {
   "cell_type": "markdown",
   "id": "efa340ca",
   "metadata": {},
   "source": [
    "We will also fit the dummy baseline model with the same type of data (without dropping features) so that it is a fair comparison with the best GradientBoostingRegressor model"
   ]
  },
  {
   "cell_type": "markdown",
   "id": "831c882f",
   "metadata": {},
   "source": [
    "### 1. Train and Score Dummy Baseline Model"
   ]
  },
  {
   "cell_type": "code",
   "execution_count": 17,
   "id": "2ef3dc49",
   "metadata": {},
   "outputs": [
    {
     "name": "stdout",
     "output_type": "stream",
     "text": [
      "The R-squared score for the best dummy_model without dropping features is: -1.07\n",
      "The MAE score for the best dummy_model without dropping features is: 12869.32\n",
      "The MSE score for the best dummy_model without dropping features is: 320868053.16\n"
     ]
    }
   ],
   "source": [
    "# train-test dummy baseline model\n",
    "dummy_model = DummyRegressor(constant=99, strategy='constant')\n",
    "dummy_model.fit(X_train, y_train)\n",
    "dummy_model_y_pred = dummy_model.predict(X_test)\n",
    "dummy_model_r2 = r2_score(y_test, dummy_model_y_pred)\n",
    "dummy_model_mae = mean_absolute_error(y_test, dummy_model_y_pred)\n",
    "dummy_model_mse = mean_squared_error(y_test, dummy_model_y_pred)\n",
    "print(f'The R-squared score for the best dummy_model without dropping features is: {round(dummy_model_r2, 2)}')\n",
    "print(f'The MAE score for the best dummy_model without dropping features is: {round(dummy_model_mae, 2)}')\n",
    "print(f'The MSE score for the best dummy_model without dropping features is: {round(dummy_model_mse, 2)}')"
   ]
  },
  {
   "cell_type": "markdown",
   "id": "36f07104",
   "metadata": {},
   "source": [
    "### 2. Compare Between Best GradientBoostingRegressor Model and Dummy Baseline Model"
   ]
  },
  {
   "cell_type": "code",
   "execution_count": 18,
   "id": "d4b34b85",
   "metadata": {},
   "outputs": [
    {
     "name": "stdout",
     "output_type": "stream",
     "text": [
      "R-Squared Score increased by: 1.94\n"
     ]
    }
   ],
   "source": [
    "print(f'R-Squared Score increased by: {round(best_gbr_r2 - dummy_model_r2, 2)}')"
   ]
  },
  {
   "cell_type": "markdown",
   "id": "3263109e",
   "metadata": {},
   "source": [
    "### 3. Determine Which Features The GradientBoostingRegressor Model Considers Important"
   ]
  },
  {
   "cell_type": "markdown",
   "id": "92f0764c",
   "metadata": {},
   "source": [
    "The GradientBoostingRegressor model has a property called feature_importances_ which is an array of the features' importance which we can use to determine which features the model considers important"
   ]
  },
  {
   "cell_type": "code",
   "execution_count": 19,
   "id": "61c0fdb5",
   "metadata": {},
   "outputs": [
    {
     "data": {
      "image/png": "[encoded data removed]",
      "text/plain": [
       "<Figure size 640x480 with 1 Axes>"
      ]
     },
     "metadata": {},
     "output_type": "display_data"
    }
   ],
   "source": [
    "importances = best_gbr.feature_importances_\n",
    "indices = np.argsort(importances)\n",
    "\n",
    "features = np.array(list(df.drop(['Cost ($)', 'ID'], axis=1).columns))\n",
    "\n",
    "plt.barh(features[indices], importances[indices])  # plot a horizontal bar plot for all the scores and its respective feature names\n",
    "plt.xlabel('Permutation Importance')\n",
    "\n",
    "plt.show()"
   ]
  },
  {
   "cell_type": "markdown",
   "id": "78fd9361",
   "metadata": {},
   "source": [
    "From the horizontal bar plot shown above, we can tell that the top 3 features that are deemed important by the GradientBoostingRegressor model are Smoker_yes (whether the patient is a smoker), BMI and Age in determining the hospital fee for each patient"
   ]
  },
  {
   "cell_type": "markdown",
   "id": "d24e59bd",
   "metadata": {},
   "source": [
    "# 4. Conclusion"
   ]
  },
  {
   "cell_type": "markdown",
   "id": "89e3f89c",
   "metadata": {},
   "source": [
    "To summarise the process of training this Regression model:"
   ]
  },
  {
   "cell_type": "markdown",
   "id": "027b48f8",
   "metadata": {},
   "source": [
    "## A. Did you process the features in any way?"
   ]
  },
  {
   "cell_type": "markdown",
   "id": "a615c118",
   "metadata": {},
   "source": [
    "Yes, I first created dummy_varibles for the categorical features (Region, Smoker and Gender). Then, I scaled the data. Finally, I used LassoCV to determine which features are deemed important to it and created a spearate dataset."
   ]
  },
  {
   "cell_type": "markdown",
   "id": "0766605b",
   "metadata": {},
   "source": [
    "## B. How did you select which learning algorithms to use?"
   ]
  },
  {
   "cell_type": "markdown",
   "id": "ba2e5014",
   "metadata": {},
   "source": [
    "I chose LassoCV, RidgeCV, GradientBoostingRegressor, DecisionTreeRegressor, RandomForestRegressor, KNeighborsRegressor and SVR as some were popular and some were found in the lecture slides."
   ]
  },
  {
   "cell_type": "markdown",
   "id": "b2344df9",
   "metadata": {},
   "source": [
    "## C. Did you try to tune the hyperparameters of the learning algorithm, and in that case how?"
   ]
  },
  {
   "cell_type": "markdown",
   "id": "c8e456c5",
   "metadata": {},
   "source": [
    "Yes, I first googled and found parameters and their respective value ranges for some of the models. For those which were not included in the website, I went to the documentation to see what parameters were there for the remaining models and randomly chose values for those parameters.\n",
    "\n",
    "Then, I tuned the hyperparameters by using either RandomizedSearchCV or GridSearchCV (depending on how many parameters are needed to hypertune) which will split the training data into n_folds and select one of the folds as the validation set. It will then train the model using the remaining n-1 folds of data and use the validation set to test and score. It will repeat this for n times and for every possible combination of parameters.\n",
    "\n",
    "I hypertuned each model with two sets of data, one with dropping the features selected by the LassoCV model and one without, and got their respective R-Squared, MSE and MAE scores for each set of data."
   ]
  },
  {
   "cell_type": "markdown",
   "id": "019b1729",
   "metadata": {},
   "source": [
    "## D. How do you evaluate the quality of your system?"
   ]
  },
  {
   "cell_type": "markdown",
   "id": "f5598d48",
   "metadata": {},
   "source": [
    "I used the R-Squared score, together with MAE and MSE scores as the main evaluation of the quality of my best chosen model as R-Squared score as it indicates how well the regression model captures the variability in the data while MAE and MSE scores indicates the accuracy of the predicted values compared to the actual values."
   ]
  },
  {
   "cell_type": "markdown",
   "id": "2982fcf0",
   "metadata": {},
   "source": [
    "## E. How well does your system compare to a dummy baseline?"
   ]
  },
  {
   "cell_type": "markdown",
   "id": "26362835",
   "metadata": {},
   "source": [
    "The R-Squared score of the GradientBoostingRegressor model was 1.94 higher than the dummy baseline model."
   ]
  },
  {
   "cell_type": "markdown",
   "id": "b9fd92d4",
   "metadata": {},
   "source": [
    "## F. Is it possible to say something about which features the model considers important?"
   ]
  },
  {
   "cell_type": "markdown",
   "id": "6a732dc9",
   "metadata": {},
   "source": [
    "The top 3 features that are deemed important by the GradientBoostingRegressor model are Smoker_yes (whether the patient is a smoker), BMI and Age in determining the hospital fee for each patient which are determined by GradientBoostingRegressor.feature_importances_"
   ]
  }
 ],
 "metadata": {
  "kernelspec": {
   "display_name": "Python 3 (ipykernel)",
   "language": "python",
   "name": "python3"
  },
  "language_info": {
   "codemirror_mode": {
    "name": "ipython",
    "version": 3
   },
   "file_extension": ".py",
   "mimetype": "text/x-python",
   "name": "python",
   "nbconvert_exporter": "python",
   "pygments_lexer": "ipython3",
   "version": "3.11.5"
  }
 },
 "nbformat": 4,
 "nbformat_minor": 5
}
